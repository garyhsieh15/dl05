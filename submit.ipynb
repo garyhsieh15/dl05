{
  "nbformat": 4,
  "nbformat_minor": 0,
  "metadata": {
    "colab": {
      "name": "submit.ipynb",
      "provenance": [],
      "include_colab_link": true
    },
    "kernelspec": {
      "name": "python3",
      "display_name": "Python 3"
    },
    "language_info": {
      "name": "python"
    },
    "accelerator": "GPU"
  },
  "cells": [
    {
      "cell_type": "markdown",
      "metadata": {
        "id": "view-in-github",
        "colab_type": "text"
      },
      "source": [
        "<a href=\"https://colab.research.google.com/github/garyhsieh15/dl05/blob/main/submit.ipynb\" target=\"_parent\"><img src=\"https://colab.research.google.com/assets/colab-badge.svg\" alt=\"Open In Colab\"/></a>"
      ]
    },
    {
      "cell_type": "code",
      "metadata": {
        "id": "Dig8iCuFQjin",
        "colab": {
          "base_uri": "https://localhost:8080/"
        },
        "outputId": "b85572b5-1ceb-49db-b8b6-2611e642414c"
      },
      "source": [
        "from google.colab import drive\n",
        "drive.mount('/content/drive')"
      ],
      "execution_count": 3,
      "outputs": [
        {
          "output_type": "stream",
          "text": [
            "Mounted at /content/drive\n"
          ],
          "name": "stdout"
        }
      ]
    },
    {
      "cell_type": "code",
      "metadata": {
        "id": "FQkel82BQ9aq",
        "colab": {
          "base_uri": "https://localhost:8080/"
        },
        "outputId": "b5de3438-8156-47e7-e2cb-cc51823d2b27"
      },
      "source": [
        "%cd /content/drive/MyDrive/work/NCKU/10902/dl/HW05/dl05/"
      ],
      "execution_count": 4,
      "outputs": [
        {
          "output_type": "stream",
          "text": [
            "/content/drive/MyDrive/work/NCKU/10902/dl/HW05/dl05\n"
          ],
          "name": "stdout"
        }
      ]
    },
    {
      "cell_type": "code",
      "metadata": {
        "id": "Vm_W6yVKQ1--",
        "colab": {
          "base_uri": "https://localhost:8080/"
        },
        "outputId": "26ee7eb6-2ea0-41ee-cd06-e05b2c30fc67"
      },
      "source": [
        "!pwd"
      ],
      "execution_count": 5,
      "outputs": [
        {
          "output_type": "stream",
          "text": [
            "/content/drive/MyDrive/work/NCKU/10902/dl/HW05/dl05\n"
          ],
          "name": "stdout"
        }
      ]
    },
    {
      "cell_type": "code",
      "metadata": {
        "id": "myTd-sxcc6bF"
      },
      "source": [
        "%cd ./aoi"
      ],
      "execution_count": null,
      "outputs": []
    },
    {
      "cell_type": "code",
      "metadata": {
        "id": "HgF2si0cc1bV"
      },
      "source": [
        "# 解壓縮測試集\n",
        "!unzip test_images.zip"
      ],
      "execution_count": null,
      "outputs": []
    },
    {
      "cell_type": "code",
      "metadata": {
        "id": "B8ue1MvidAaf"
      },
      "source": [
        "%cd ../"
      ],
      "execution_count": null,
      "outputs": []
    },
    {
      "cell_type": "code",
      "metadata": {
        "id": "hwVUKeJjdBFu",
        "colab": {
          "base_uri": "https://localhost:8080/"
        },
        "outputId": "4b0d6be9-4c7c-441a-f35a-f40fd78b62e5"
      },
      "source": [
        "!pwd"
      ],
      "execution_count": 6,
      "outputs": [
        {
          "output_type": "stream",
          "text": [
            "/content/drive/MyDrive/work/NCKU/10902/dl/HW05/dl05\n"
          ],
          "name": "stdout"
        }
      ]
    },
    {
      "cell_type": "code",
      "metadata": {
        "id": "dpw7xMnULeTw",
        "colab": {
          "base_uri": "https://localhost:8080/"
        },
        "outputId": "137e21f8-bb77-411e-d6e8-55b2e93bd7cd"
      },
      "source": [
        "#%%\n",
        "import math, time\n",
        "from PIL import Image\n",
        "import pandas as pd\n",
        "import matplotlib.pyplot as plt\n",
        "from tqdm import tqdm\n",
        "import torch\n",
        "import torch.nn as nn\n",
        "import torchvision\n",
        "from torchvision import datasets, transforms\n",
        "from load_data import CreateList, CustomDataset\n",
        "from models import VGG, LeNet5\n",
        "\n",
        "#%% Paths\n",
        "#dir_img_test = 'C:/Dataset/AOI/test_images/'\n",
        "dir_img_test = './aoi/test_images/'\n",
        "#path_label_test = 'C:/Dataset/AOI/test.csv'\n",
        "path_label_test = './aoi/test.csv'\n",
        "#path_model = './model/bestmodel0721_vgg_pre_bn01.pkl'\n",
        "path_model = './model/bestmodel0531_lenet_init.pkl'\n",
        "save_submit = './submit/{}_submit.csv'.format(path_model.split('/')[-1].replace('.pkl', ''))\n",
        "\n",
        "#%% Parameters\n",
        "cuda = True\n",
        "workers = 2\n",
        "batch_size = 128\n",
        "#%% Load the Model\n",
        "#net = VGG('aoi', True)\n",
        "net = LeNet5('aoi')\n",
        "save = torch.load(path_model)\n",
        "save['best_prec1']\n",
        "net.load_state_dict(save['state_dict'])\n",
        "net.eval()\n",
        "\n",
        "# Send model into gpu memory\n",
        "if cuda:\n",
        "    net.cuda()\n",
        "#%% Prepare the data\n",
        "test_list = CreateList(dir_img_test, path_label_test, shuffle=False, train=False)\n",
        "\n",
        "transform = {\n",
        "    'test': transforms.Compose([\n",
        "        transforms.Resize((224, 224)),\n",
        "        transforms.ToTensor(),\n",
        "        transforms.Normalize((0.5,), (0.5,))\n",
        "    ])\n",
        "}\n",
        "\n",
        "fake_list = [i for i in range(len(test_list.img))]\n",
        "\n",
        "test_dataset = CustomDataset(test_list.img,\n",
        "                             label_list=fake_list,\n",
        "                             transform=transform['test'])\n",
        "\n",
        "test_loader = torch.utils.data.DataLoader(dataset=test_dataset,\n",
        "                                          batch_size=batch_size,\n",
        "                                          shuffle=False,\n",
        "                                          num_workers=workers,\n",
        "                                          pin_memory=True)\n",
        "\n",
        "#%% Predict test images\n",
        "# Collect prediction values\n",
        "test_predict = []\n",
        "net.eval()\n",
        "with torch.no_grad():\n",
        "    for images, _ in tqdm(test_loader):\n",
        "        images = images.cuda()\n",
        "        \n",
        "        out = net(images)  # forward\n",
        "        _, pred = torch.max(out.data, 1)\n",
        "        test_predict += pred.cpu().numpy().tolist()\n",
        "# Check number of class of predicitons\n",
        "len(set(test_predict))\n",
        "# Check whether the number of predictions match test images\n",
        "len(test_predict) == len(test_list.filename)\n",
        "    \n",
        "#%% Create submit data\n",
        "df_submit = pd.DataFrame({'ID': test_list.filename,\n",
        "                            'Label': test_predict})\n",
        "\n",
        "df_submit.to_csv(save_submit,\n",
        "                header=True,\n",
        "                sep=',',\n",
        "                encoding='utf-8',\n",
        "                index=False)"
      ],
      "execution_count": 7,
      "outputs": [
        {
          "output_type": "stream",
          "text": [
            "100%|██████████| 80/80 [22:35<00:00, 16.94s/it]\n"
          ],
          "name": "stderr"
        }
      ]
    }
  ]
}